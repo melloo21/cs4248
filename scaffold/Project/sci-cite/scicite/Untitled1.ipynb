{
 "cells": [
  {
   "cell_type": "code",
   "execution_count": 1,
   "id": "263bb0ed-a2be-456c-b929-ea88d12cf63a",
   "metadata": {},
   "outputs": [
    {
     "name": "stderr",
     "output_type": "stream",
     "text": [
      "/home/kanhon/anaconda3/envs/torch_py38/lib/python3.8/site-packages/tqdm/auto.py:21: TqdmWarning: IProgress not found. Please update jupyter and ipywidgets. See https://ipywidgets.readthedocs.io/en/stable/user_install.html\n",
      "  from .autonotebook import tqdm as notebook_tqdm\n"
     ]
    },
    {
     "data": {
      "text/plain": [
       "('bert-tokenizer-pretrained/tokenizer_config.json',\n",
       " 'bert-tokenizer-pretrained/special_tokens_map.json',\n",
       " 'bert-tokenizer-pretrained/vocab.txt',\n",
       " 'bert-tokenizer-pretrained/added_tokens.json')"
      ]
     },
     "execution_count": 1,
     "metadata": {},
     "output_type": "execute_result"
    }
   ],
   "source": [
    "from transformers import BertTokenizer\n",
    "\n",
    "tokenizer = BertTokenizer.from_pretrained('bert-base-uncased')\n",
    "tokenizer.save_pretrained('bert-tokenizer-pretrained')"
   ]
  },
  {
   "cell_type": "code",
   "execution_count": 2,
   "id": "4814e8ea-a86b-4b79-be05-e95a072e71fa",
   "metadata": {},
   "outputs": [],
   "source": [
    "from transformers import BertModel\n",
    "\n",
    "tokenizer = BertModel.from_pretrained('bert-base-uncased')\n",
    "tokenizer.save_pretrained('bert-model-pretrained')"
   ]
  },
  {
   "cell_type": "code",
   "execution_count": null,
   "id": "c16b10a7-e025-404e-9791-31d2106a3dad",
   "metadata": {},
   "outputs": [],
   "source": []
  }
 ],
 "metadata": {
  "kernelspec": {
   "display_name": "torch_py38",
   "language": "python",
   "name": "torch_py38"
  },
  "language_info": {
   "codemirror_mode": {
    "name": "ipython",
    "version": 3
   },
   "file_extension": ".py",
   "mimetype": "text/x-python",
   "name": "python",
   "nbconvert_exporter": "python",
   "pygments_lexer": "ipython3",
   "version": "3.8.13"
  }
 },
 "nbformat": 4,
 "nbformat_minor": 5
}
