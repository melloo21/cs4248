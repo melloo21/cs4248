{
 "cells": [
  {
   "cell_type": "markdown",
   "id": "c85ac7b7",
   "metadata": {},
   "source": [
    "## num_token"
   ]
  },
  {
   "cell_type": "code",
   "execution_count": 1,
   "id": "fa776a9f",
   "metadata": {},
   "outputs": [],
   "source": [
    "import json\n",
    "import re\n",
    "\n",
    "def preprocess_jsonl_file(input_file_path, output_file_path):\n",
    "    with open(input_file_path, 'r', encoding='utf-8') as input_file, \\\n",
    "         open(output_file_path, 'w', encoding='utf-8') as output_file:\n",
    "        for line in input_file:\n",
    "            data = json.loads(line)\n",
    "            processed_string = re.sub(r'\\d+', '<num_token>', data[\"string\"])\n",
    "            data[\"string\"] = processed_string\n",
    "            json.dump(data, output_file)\n",
    "            output_file.write('\\n')\n"
   ]
  },
  {
   "cell_type": "code",
   "execution_count": 2,
   "id": "a58b21a6",
   "metadata": {},
   "outputs": [],
   "source": [
    "input_file_path = './train.jsonl'\n",
    "output_file_path = './nt_train.jsonl'\n",
    "preprocess_jsonl_file(input_file_path, output_file_path)"
   ]
  },
  {
   "cell_type": "code",
   "execution_count": 3,
   "id": "f5a97a1f",
   "metadata": {},
   "outputs": [],
   "source": [
    "input_file_path = './test.jsonl'\n",
    "output_file_path = './nt_test.jsonl'\n",
    "preprocess_jsonl_file(input_file_path, output_file_path)"
   ]
  },
  {
   "cell_type": "code",
   "execution_count": 4,
   "id": "4e3d5aea",
   "metadata": {},
   "outputs": [],
   "source": [
    "input_file_path = './dev.jsonl'\n",
    "output_file_path = './nt_dev.jsonl'\n",
    "preprocess_jsonl_file(input_file_path, output_file_path)"
   ]
  },
  {
   "cell_type": "markdown",
   "id": "45d38cba",
   "metadata": {},
   "source": [
    "## Remove duplicate"
   ]
  },
  {
   "cell_type": "code",
   "execution_count": 6,
   "id": "5a6c9b07",
   "metadata": {},
   "outputs": [],
   "source": [
    "import json\n",
    "import re\n",
    "\n",
    "def preprocess_jsonl_file_remove_duplicates(input_file_path, output_file_path):\n",
    "    seen_strings = set()\n",
    "\n",
    "    with open(input_file_path, 'r', encoding='utf-8') as input_file, \\\n",
    "         open(output_file_path, 'w', encoding='utf-8') as output_file:\n",
    "        for line in input_file:\n",
    "            data = json.loads(line)\n",
    "            string = data[\"string\"]\n",
    "\n",
    "            if string not in seen_strings:\n",
    "                seen_strings.add(string)\n",
    "                data[\"string\"] = string\n",
    "                \n",
    "                json.dump(data, output_file)\n",
    "                output_file.write('\\n')  "
   ]
  },
  {
   "cell_type": "code",
   "execution_count": 21,
   "id": "5f4699d9",
   "metadata": {},
   "outputs": [],
   "source": [
    "input_file_path = './train.jsonl'\n",
    "output_file_path = './rd_train.jsonl'\n",
    "preprocess_jsonl_file_remove_duplicates(input_file_path, output_file_path)"
   ]
  },
  {
   "cell_type": "code",
   "execution_count": 9,
   "id": "9208056d",
   "metadata": {},
   "outputs": [],
   "source": [
    "import pandas as pd\n",
    "from tqdm import tqdm\n",
    "import json\n",
    "import numpy as np\n",
    "from sklearn.feature_extraction.text import CountVectorizer,TfidfVectorizer\n",
    "from sklearn.decomposition import LatentDirichletAllocation\n",
    "from sklearn.neural_network import MLPClassifier\n",
    "from sklearn.metrics import classification_report\n",
    "import spacy\n",
    "from scipy.sparse import hstack\n",
    "import numpy as np"
   ]
  },
  {
   "cell_type": "code",
   "execution_count": 22,
   "id": "5f8ca7bf",
   "metadata": {},
   "outputs": [],
   "source": [
    "def js_to_df(file_path):\n",
    "    data = []\n",
    "    with open(file_path, 'r', encoding='utf-8') as f:\n",
    "        for line in f:\n",
    "            obj = json.loads(line.strip())\n",
    "            data.append({'string': obj['string'], 'label': obj['label']})\n",
    "    return pd.DataFrame(data)\n",
    "\n",
    "train_df = js_to_df('./train.jsonl')"
   ]
  },
  {
   "cell_type": "code",
   "execution_count": 23,
   "id": "e7211146",
   "metadata": {},
   "outputs": [
    {
     "data": {
      "text/html": [
       "<div>\n",
       "<style scoped>\n",
       "    .dataframe tbody tr th:only-of-type {\n",
       "        vertical-align: middle;\n",
       "    }\n",
       "\n",
       "    .dataframe tbody tr th {\n",
       "        vertical-align: top;\n",
       "    }\n",
       "\n",
       "    .dataframe thead th {\n",
       "        text-align: right;\n",
       "    }\n",
       "</style>\n",
       "<table border=\"1\" class=\"dataframe\">\n",
       "  <thead>\n",
       "    <tr style=\"text-align: right;\">\n",
       "      <th></th>\n",
       "      <th>string</th>\n",
       "      <th>label</th>\n",
       "    </tr>\n",
       "  </thead>\n",
       "  <tbody>\n",
       "    <tr>\n",
       "      <th>0</th>\n",
       "      <td>However, how frataxin interacts with the Fe-S ...</td>\n",
       "      <td>background</td>\n",
       "    </tr>\n",
       "    <tr>\n",
       "      <th>1</th>\n",
       "      <td>In the study by Hickey et al. (2012), spikes w...</td>\n",
       "      <td>background</td>\n",
       "    </tr>\n",
       "    <tr>\n",
       "      <th>2</th>\n",
       "      <td>The drug also reduces catecholamine secretion,...</td>\n",
       "      <td>background</td>\n",
       "    </tr>\n",
       "    <tr>\n",
       "      <th>3</th>\n",
       "      <td>By clustering with lowly aggressive close kin ...</td>\n",
       "      <td>background</td>\n",
       "    </tr>\n",
       "    <tr>\n",
       "      <th>4</th>\n",
       "      <td>Ophthalmic symptoms are rare manifestations of...</td>\n",
       "      <td>background</td>\n",
       "    </tr>\n",
       "    <tr>\n",
       "      <th>...</th>\n",
       "      <td>...</td>\n",
       "      <td>...</td>\n",
       "    </tr>\n",
       "    <tr>\n",
       "      <th>8238</th>\n",
       "      <td>Importantly, the results of Pascalis et al. (2...</td>\n",
       "      <td>background</td>\n",
       "    </tr>\n",
       "    <tr>\n",
       "      <th>8239</th>\n",
       "      <td>As suggested by Nguena et al, there is a need ...</td>\n",
       "      <td>background</td>\n",
       "    </tr>\n",
       "    <tr>\n",
       "      <th>8240</th>\n",
       "      <td>Skeletal muscle is also a primary site of dise...</td>\n",
       "      <td>background</td>\n",
       "    </tr>\n",
       "    <tr>\n",
       "      <th>8241</th>\n",
       "      <td>ACTIVATION OF TRANSCRIPTION FACTORS Roles for ...</td>\n",
       "      <td>method</td>\n",
       "    </tr>\n",
       "    <tr>\n",
       "      <th>8242</th>\n",
       "      <td>Most studies focused on the relation between b...</td>\n",
       "      <td>background</td>\n",
       "    </tr>\n",
       "  </tbody>\n",
       "</table>\n",
       "<p>8243 rows × 2 columns</p>\n",
       "</div>"
      ],
      "text/plain": [
       "                                                 string       label\n",
       "0     However, how frataxin interacts with the Fe-S ...  background\n",
       "1     In the study by Hickey et al. (2012), spikes w...  background\n",
       "2     The drug also reduces catecholamine secretion,...  background\n",
       "3     By clustering with lowly aggressive close kin ...  background\n",
       "4     Ophthalmic symptoms are rare manifestations of...  background\n",
       "...                                                 ...         ...\n",
       "8238  Importantly, the results of Pascalis et al. (2...  background\n",
       "8239  As suggested by Nguena et al, there is a need ...  background\n",
       "8240  Skeletal muscle is also a primary site of dise...  background\n",
       "8241  ACTIVATION OF TRANSCRIPTION FACTORS Roles for ...      method\n",
       "8242  Most studies focused on the relation between b...  background\n",
       "\n",
       "[8243 rows x 2 columns]"
      ]
     },
     "execution_count": 23,
     "metadata": {},
     "output_type": "execute_result"
    }
   ],
   "source": [
    "train_df"
   ]
  },
  {
   "cell_type": "code",
   "execution_count": 24,
   "id": "48758c6c",
   "metadata": {
    "scrolled": true
   },
   "outputs": [
    {
     "data": {
      "text/html": [
       "<div>\n",
       "<style scoped>\n",
       "    .dataframe tbody tr th:only-of-type {\n",
       "        vertical-align: middle;\n",
       "    }\n",
       "\n",
       "    .dataframe tbody tr th {\n",
       "        vertical-align: top;\n",
       "    }\n",
       "\n",
       "    .dataframe thead th {\n",
       "        text-align: right;\n",
       "    }\n",
       "</style>\n",
       "<table border=\"1\" class=\"dataframe\">\n",
       "  <thead>\n",
       "    <tr style=\"text-align: right;\">\n",
       "      <th></th>\n",
       "      <th>string</th>\n",
       "      <th>label</th>\n",
       "    </tr>\n",
       "  </thead>\n",
       "  <tbody>\n",
       "    <tr>\n",
       "      <th>0</th>\n",
       "      <td>However, how frataxin interacts with the Fe-S ...</td>\n",
       "      <td>background</td>\n",
       "    </tr>\n",
       "    <tr>\n",
       "      <th>1</th>\n",
       "      <td>In the study by Hickey et al. (2012), spikes w...</td>\n",
       "      <td>background</td>\n",
       "    </tr>\n",
       "    <tr>\n",
       "      <th>2</th>\n",
       "      <td>The drug also reduces catecholamine secretion,...</td>\n",
       "      <td>background</td>\n",
       "    </tr>\n",
       "    <tr>\n",
       "      <th>3</th>\n",
       "      <td>By clustering with lowly aggressive close kin ...</td>\n",
       "      <td>background</td>\n",
       "    </tr>\n",
       "    <tr>\n",
       "      <th>4</th>\n",
       "      <td>Ophthalmic symptoms are rare manifestations of...</td>\n",
       "      <td>background</td>\n",
       "    </tr>\n",
       "    <tr>\n",
       "      <th>...</th>\n",
       "      <td>...</td>\n",
       "      <td>...</td>\n",
       "    </tr>\n",
       "    <tr>\n",
       "      <th>8237</th>\n",
       "      <td>Importantly, the results of Pascalis et al. (2...</td>\n",
       "      <td>background</td>\n",
       "    </tr>\n",
       "    <tr>\n",
       "      <th>8238</th>\n",
       "      <td>As suggested by Nguena et al, there is a need ...</td>\n",
       "      <td>background</td>\n",
       "    </tr>\n",
       "    <tr>\n",
       "      <th>8239</th>\n",
       "      <td>Skeletal muscle is also a primary site of dise...</td>\n",
       "      <td>background</td>\n",
       "    </tr>\n",
       "    <tr>\n",
       "      <th>8240</th>\n",
       "      <td>ACTIVATION OF TRANSCRIPTION FACTORS Roles for ...</td>\n",
       "      <td>method</td>\n",
       "    </tr>\n",
       "    <tr>\n",
       "      <th>8241</th>\n",
       "      <td>Most studies focused on the relation between b...</td>\n",
       "      <td>background</td>\n",
       "    </tr>\n",
       "  </tbody>\n",
       "</table>\n",
       "<p>8242 rows × 2 columns</p>\n",
       "</div>"
      ],
      "text/plain": [
       "                                                 string       label\n",
       "0     However, how frataxin interacts with the Fe-S ...  background\n",
       "1     In the study by Hickey et al. (2012), spikes w...  background\n",
       "2     The drug also reduces catecholamine secretion,...  background\n",
       "3     By clustering with lowly aggressive close kin ...  background\n",
       "4     Ophthalmic symptoms are rare manifestations of...  background\n",
       "...                                                 ...         ...\n",
       "8237  Importantly, the results of Pascalis et al. (2...  background\n",
       "8238  As suggested by Nguena et al, there is a need ...  background\n",
       "8239  Skeletal muscle is also a primary site of dise...  background\n",
       "8240  ACTIVATION OF TRANSCRIPTION FACTORS Roles for ...      method\n",
       "8241  Most studies focused on the relation between b...  background\n",
       "\n",
       "[8242 rows x 2 columns]"
      ]
     },
     "execution_count": 24,
     "metadata": {},
     "output_type": "execute_result"
    }
   ],
   "source": [
    "rd_train_df = js_to_df('./rd_train.jsonl')\n",
    "rd_train_df"
   ]
  },
  {
   "cell_type": "code",
   "execution_count": 25,
   "id": "d748a057",
   "metadata": {},
   "outputs": [],
   "source": [
    "input_file_path = './test.jsonl'\n",
    "output_file_path = './rd_test.jsonl'\n",
    "preprocess_jsonl_file_remove_duplicates(input_file_path, output_file_path)"
   ]
  },
  {
   "cell_type": "code",
   "execution_count": 26,
   "id": "c80d2fd5",
   "metadata": {},
   "outputs": [],
   "source": [
    "input_file_path = './dev.jsonl'\n",
    "output_file_path = './rd_dev.jsonl'\n",
    "preprocess_jsonl_file_remove_duplicates(input_file_path, output_file_path)"
   ]
  },
  {
   "cell_type": "markdown",
   "id": "c4ba16d5",
   "metadata": {},
   "source": [
    "## remove citations"
   ]
  },
  {
   "cell_type": "code",
   "execution_count": 14,
   "id": "f79113a9",
   "metadata": {},
   "outputs": [],
   "source": [
    "def preprocess_jsonl_file_remove_citations(input_file_path, output_file_path):\n",
    "\n",
    "    with open(input_file_path, 'r', encoding='utf-8') as input_file, \\\n",
    "         open(output_file_path, 'w', encoding='utf-8') as output_file:\n",
    "        for line in input_file:\n",
    "            data = json.loads(line)\n",
    "            no_citations = re.sub(r'\\[\\d+(-\\d+)?(,\\s?\\d+(-\\d+)?)*\\]', '', data[\"string\"])\n",
    "            no_citations = re.sub(r'\\(\\w+ et al\\., \\d+\\)', '', no_citations)\n",
    "            data[\"string\"] = no_citations\n",
    "            json.dump(data, output_file)\n",
    "            output_file.write('\\n')\n"
   ]
  },
  {
   "cell_type": "code",
   "execution_count": 18,
   "id": "b05eb3df",
   "metadata": {},
   "outputs": [],
   "source": [
    "input_file_path = './train.jsonl'\n",
    "output_file_path = './rc_train.jsonl'\n",
    "preprocess_jsonl_file_remove_citations(input_file_path, output_file_path)"
   ]
  },
  {
   "cell_type": "code",
   "execution_count": 19,
   "id": "9df09a3d",
   "metadata": {},
   "outputs": [],
   "source": [
    "input_file_path = './test.jsonl'\n",
    "output_file_path = './rc_test.jsonl'\n",
    "preprocess_jsonl_file_remove_citations(input_file_path, output_file_path)"
   ]
  },
  {
   "cell_type": "code",
   "execution_count": 20,
   "id": "388cf3bb",
   "metadata": {},
   "outputs": [],
   "source": [
    "input_file_path = './dev.jsonl'\n",
    "output_file_path = './rc_dev.jsonl'\n",
    "preprocess_jsonl_file_remove_citations(input_file_path, output_file_path)"
   ]
  },
  {
   "cell_type": "code",
   "execution_count": null,
   "id": "8b5ad765",
   "metadata": {},
   "outputs": [],
   "source": []
  }
 ],
 "metadata": {
  "kernelspec": {
   "display_name": "Python 3 (ipykernel)",
   "language": "python",
   "name": "python3"
  },
  "language_info": {
   "codemirror_mode": {
    "name": "ipython",
    "version": 3
   },
   "file_extension": ".py",
   "mimetype": "text/x-python",
   "name": "python",
   "nbconvert_exporter": "python",
   "pygments_lexer": "ipython3",
   "version": "3.10.9"
  }
 },
 "nbformat": 4,
 "nbformat_minor": 5
}
