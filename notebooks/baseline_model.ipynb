{
 "cells": [
  {
   "cell_type": "code",
   "source": [
    "import numpy as np\n",
    "from numpy.random import RandomState\n",
    "\n",
    "from src.extraction.jsonl_data_reader import JsonlDataReader"
   ],
   "metadata": {
    "collapsed": false,
    "ExecuteTime": {
     "end_time": "2024-04-16T15:49:10.183473Z",
     "start_time": "2024-04-16T15:49:08.021243Z"
    }
   },
   "id": "241064ad2dc2c113",
   "outputs": [],
   "execution_count": 1
  },
  {
   "cell_type": "code",
   "source": [
    "seed = 7\n",
    "random_state = RandomState(seed=seed)\n",
    "np.random.seed(seed)"
   ],
   "metadata": {
    "collapsed": false,
    "ExecuteTime": {
     "end_time": "2024-04-16T15:49:10.199473Z",
     "start_time": "2024-04-16T15:49:10.184474Z"
    }
   },
   "id": "ebeafe2eaa284a61",
   "outputs": [],
   "execution_count": 2
  },
  {
   "cell_type": "code",
   "source": [
    "train_data = JsonlDataReader(file_name='train.jsonl').read()\n",
    "dev_data = JsonlDataReader(file_name='dev.jsonl').read()\n",
    "test_data = JsonlDataReader(file_name='test.jsonl').read()"
   ],
   "metadata": {
    "collapsed": false,
    "ExecuteTime": {
     "end_time": "2024-04-16T15:49:11.155550Z",
     "start_time": "2024-04-16T15:49:10.201474Z"
    }
   },
   "id": "7101d588a95c4943",
   "outputs": [],
   "execution_count": 3
  },
  {
   "cell_type": "code",
   "source": [
    "from src.preprocessing.null_preprocessor import NullPreprocessor\n",
    "\n",
    "preprocessor = NullPreprocessor()\n",
    "preprocessed_train = preprocessor.preprocess(train_data)\n",
    "preprocessed_dev = preprocessor.preprocess(dev_data)\n",
    "preprocessed_test = preprocessor.preprocess(test_data)"
   ],
   "metadata": {
    "collapsed": false,
    "ExecuteTime": {
     "end_time": "2024-04-16T15:49:11.171557Z",
     "start_time": "2024-04-16T15:49:11.156552Z"
    }
   },
   "id": "f2a9766fad954c0b",
   "outputs": [],
   "execution_count": 4
  },
  {
   "cell_type": "code",
   "source": [
    "from src.tokenize.null_tokenizer import NullTokenizer\n",
    "\n",
    "tokenizer = NullTokenizer()\n",
    "tokenized_train = tokenizer.tokenize(train_data)\n",
    "tokenized_dev = tokenizer.tokenize(preprocessed_dev)\n",
    "tokenized_test = tokenizer.tokenize(test_data)"
   ],
   "metadata": {
    "collapsed": false,
    "ExecuteTime": {
     "end_time": "2024-04-16T15:49:11.217557Z",
     "start_time": "2024-04-16T15:49:11.172559Z"
    }
   },
   "id": "2d669b52aab2079b",
   "outputs": [],
   "execution_count": 5
  },
  {
   "cell_type": "code",
   "source": [
    "\n",
    "from src.vectorizer.sk_count_vectorizer import SkCountVectorizer\n",
    "\n",
    "vectorizer = SkCountVectorizer(\n",
    "    ngram_range=(1, 1)\n",
    ")\n",
    "vectorizer.fit(tokenized_train)\n",
    "vectorized_train = vectorizer.transform(tokenized_train)\n",
    "vectorized_dev = vectorizer.transform(tokenized_dev)\n",
    "vectorized_test = vectorizer.transform(tokenized_test)"
   ],
   "metadata": {
    "collapsed": false,
    "ExecuteTime": {
     "end_time": "2024-04-16T15:49:11.658156Z",
     "start_time": "2024-04-16T15:49:11.218560Z"
    }
   },
   "id": "76560d46dc6c259c",
   "outputs": [],
   "execution_count": 6
  },
  {
   "metadata": {
    "ExecuteTime": {
     "end_time": "2024-04-16T15:49:13.107711Z",
     "start_time": "2024-04-16T15:49:11.659157Z"
    }
   },
   "cell_type": "code",
   "source": [
    "from sklearn.linear_model import LogisticRegression\n",
    "from sklearn.metrics import f1_score, confusion_matrix, precision_recall_fscore_support\n",
    "\n",
    "model = LogisticRegression(max_iter=2000)\n",
    "model.fit(vectorized_train.vectors, vectorized_train.label_indices)\n",
    "y_pred_train = model.predict(vectorized_train.vectors)\n",
    "training_score = f1_score(vectorized_train.label_indices, y_pred_train, average='macro')\n",
    "print(f'{training_score=}')\n",
    "print(confusion_matrix(vectorized_train.label_indices, y_pred_train))\n",
    "print(precision_recall_fscore_support(vectorized_train.label_indices, y_pred_train, average='macro'))\n",
    "\n",
    "y_pred_dev = model.predict(vectorized_dev.vectors)\n",
    "dev_score = f1_score(vectorized_dev.label_indices, y_pred_dev, average='macro')\n",
    "print(f'{dev_score=}')\n",
    "print(confusion_matrix(vectorized_dev.label_indices, y_pred_dev))\n",
    "print(precision_recall_fscore_support(vectorized_dev.label_indices, y_pred_dev, average='macro'))\n",
    "\n",
    "y_pred_test = model.predict(vectorized_test.vectors)\n",
    "testing_score = f1_score(vectorized_test.label_indices, y_pred_test, average='macro')\n",
    "print(f'{testing_score=}')\n",
    "print(confusion_matrix(vectorized_test.label_indices, y_pred_test))\n",
    "print(precision_recall_fscore_support(vectorized_test.label_indices, y_pred_test, average='macro'))"
   ],
   "id": "45235bebaaf78119",
   "outputs": [
    {
     "name": "stdout",
     "output_type": "stream",
     "text": [
      "training_score=0.9979293560266734\n",
      "[[4832    7    1]\n",
      " [   3 2290    1]\n",
      " [   2    1 1106]]\n",
      "(0.9978933197327637, 0.9979660961698094, 0.9979293560266734, None)\n",
      "dev_score=0.7976097570260805\n",
      "[[488  37  13]\n",
      " [ 73 178   4]\n",
      " [ 30   4  89]]\n",
      "(0.8260423832575504, 0.7762265494948849, 0.7976097570260805, None)\n",
      "testing_score=0.7859460492913773\n",
      "[[865  70  62]\n",
      " [122 462  21]\n",
      " [ 61  11 187]]\n",
      "(0.7896010004212245, 0.7844156313564539, 0.7859460492913773, None)\n"
     ]
    }
   ],
   "execution_count": 7
  }
 ],
 "metadata": {
  "kernelspec": {
   "name": "cs4248_project",
   "language": "python",
   "display_name": "Python3.10 (cs4248 project)"
  },
  "language_info": {
   "codemirror_mode": {
    "name": "ipython",
    "version": 2
   },
   "file_extension": ".py",
   "mimetype": "text/x-python",
   "name": "python",
   "nbconvert_exporter": "python",
   "pygments_lexer": "ipython2",
   "version": "2.7.6"
  }
 },
 "nbformat": 4,
 "nbformat_minor": 5
}
