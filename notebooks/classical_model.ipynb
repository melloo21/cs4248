{
 "cells": [
  {
   "cell_type": "code",
   "source": [
    "import numpy as np\n",
    "from numpy.random import RandomState\n",
    "\n",
    "from src.extraction.jsonl_data_reader import JsonlDataReader"
   ],
   "metadata": {
    "collapsed": false,
    "ExecuteTime": {
     "end_time": "2024-04-16T15:08:27.792227Z",
     "start_time": "2024-04-16T15:08:27.051256Z"
    }
   },
   "id": "241064ad2dc2c113",
   "outputs": [],
   "execution_count": 1
  },
  {
   "cell_type": "code",
   "source": [
    "seed = 7\n",
    "random_state = RandomState(seed=seed)\n",
    "np.random.seed(seed)"
   ],
   "metadata": {
    "collapsed": false,
    "ExecuteTime": {
     "end_time": "2024-04-16T15:08:27.808226Z",
     "start_time": "2024-04-16T15:08:27.794228Z"
    }
   },
   "id": "ebeafe2eaa284a61",
   "outputs": [],
   "execution_count": 2
  },
  {
   "cell_type": "code",
   "source": [
    "train_data = JsonlDataReader(file_name='train.jsonl').read()\n",
    "dev_data = JsonlDataReader(file_name='dev.jsonl').read()\n",
    "test_data = JsonlDataReader(file_name='test.jsonl').read()"
   ],
   "metadata": {
    "collapsed": false,
    "ExecuteTime": {
     "end_time": "2024-04-16T15:08:28.800513Z",
     "start_time": "2024-04-16T15:08:27.809227Z"
    }
   },
   "id": "7101d588a95c4943",
   "outputs": [],
   "execution_count": 3
  },
  {
   "cell_type": "code",
   "source": [
    "from src.preprocessing.simple_preprocessor import SimplePreprocessor\n",
    "\n",
    "preprocessor = SimplePreprocessor(remove_citations=False, remove_duplicates=False)\n",
    "preprocessed_train = preprocessor.preprocess(train_data)\n",
    "preprocessed_dev = preprocessor.preprocess(dev_data)\n",
    "preprocessed_test = preprocessor.preprocess(test_data)"
   ],
   "metadata": {
    "collapsed": false,
    "ExecuteTime": {
     "end_time": "2024-04-16T15:08:29.242594Z",
     "start_time": "2024-04-16T15:08:28.801515Z"
    }
   },
   "id": "f2a9766fad954c0b",
   "outputs": [],
   "execution_count": 4
  },
  {
   "cell_type": "code",
   "source": [
    "from src.tokenize.spacy_tokenizer import SpacyTokenizer\n",
    "\n",
    "tokenizer = SpacyTokenizer(replace_numbers=True, remove_stopwords=False, merge_nouns=False, merge_entities=False,\n",
    "                           lemmatize=False)\n",
    "tokenized_train = tokenizer.tokenize(train_data)\n",
    "tokenized_dev = tokenizer.tokenize(preprocessed_dev)\n",
    "tokenized_test = tokenizer.tokenize(test_data)"
   ],
   "metadata": {
    "collapsed": false,
    "ExecuteTime": {
     "end_time": "2024-04-16T15:09:10.806600Z",
     "start_time": "2024-04-16T15:08:29.243592Z"
    }
   },
   "id": "2d669b52aab2079b",
   "outputs": [],
   "execution_count": 5
  },
  {
   "cell_type": "code",
   "source": [
    "\n",
    "from src.vectorizer.sk_tfidf_vectorizer import SkTfidfVectorizer\n",
    "\n",
    "vectorizer = SkTfidfVectorizer(\n",
    "    ngram_range=(1, 2), ignore_preprocessing=False,\n",
    "    analyzer='word', binary=True\n",
    ")\n",
    "vectorizer.fit(tokenized_train)\n",
    "vectorized_train = vectorizer.transform(tokenized_train)\n",
    "vectorized_dev = vectorizer.transform(tokenized_dev)\n",
    "vectorized_test = vectorizer.transform(tokenized_test)"
   ],
   "metadata": {
    "collapsed": false,
    "ExecuteTime": {
     "end_time": "2024-04-16T15:09:11.820609Z",
     "start_time": "2024-04-16T15:09:10.807602Z"
    }
   },
   "id": "76560d46dc6c259c",
   "outputs": [],
   "execution_count": 6
  },
  {
   "metadata": {
    "ExecuteTime": {
     "end_time": "2024-04-16T15:09:13.712089Z",
     "start_time": "2024-04-16T15:09:11.821613Z"
    }
   },
   "cell_type": "code",
   "source": [
    "from sklearn.linear_model import LogisticRegression\n",
    "from sklearn.metrics import f1_score, confusion_matrix, precision_recall_fscore_support\n",
    "\n",
    "model = LogisticRegression(max_iter=2000, C=10)\n",
    "model.fit(vectorized_train.vectors, vectorized_train.label_indices)\n",
    "y_pred_train = model.predict(vectorized_train.vectors)\n",
    "training_score = f1_score(vectorized_train.label_indices, y_pred_train, average='macro')\n",
    "print(f'{training_score=}')\n",
    "print(confusion_matrix(vectorized_train.label_indices, y_pred_train))\n",
    "print(precision_recall_fscore_support(vectorized_train.label_indices, y_pred_train, average='macro'))\n",
    "\n",
    "y_pred_dev = model.predict(vectorized_dev.vectors)\n",
    "dev_score = f1_score(vectorized_dev.label_indices, y_pred_dev, average='macro')\n",
    "print(f'{dev_score=}')\n",
    "print(confusion_matrix(vectorized_dev.label_indices, y_pred_dev))\n",
    "print(precision_recall_fscore_support(vectorized_dev.label_indices, y_pred_dev, average='macro'))\n",
    "\n",
    "y_pred_test = model.predict(vectorized_test.vectors)\n",
    "testing_score = f1_score(vectorized_test.label_indices, y_pred_test, average='macro')\n",
    "print(f'{testing_score=}')\n",
    "print(confusion_matrix(vectorized_test.label_indices, y_pred_test))\n",
    "print(precision_recall_fscore_support(vectorized_test.label_indices, y_pred_test, average='macro'))"
   ],
   "id": "45235bebaaf78119",
   "outputs": [
    {
     "name": "stdout",
     "output_type": "stream",
     "text": [
      "training_score=0.9978193880384293\n",
      "[[4834    5    1]\n",
      " [   5 2289    0]\n",
      " [   5    0 1104]]\n",
      "(0.9982836713639273, 0.9973573884495986, 0.9978193880384293, None)\n",
      "dev_score=0.8182162969395542\n",
      "[[490  33  15]\n",
      " [ 62 187   6]\n",
      " [ 23   5  95]]\n",
      "(0.8340835137986562, 0.8054905753518501, 0.8182162969395542, None)\n",
      "testing_score=0.8241645391110555\n",
      "[[870  62  65]\n",
      " [102 479  24]\n",
      " [ 33   7 219]]\n",
      "(0.8169327313569607, 0.8366377454368701, 0.8241645391110555, None)\n"
     ]
    }
   ],
   "execution_count": 7
  }
 ],
 "metadata": {
  "kernelspec": {
   "name": "cs4248_project",
   "language": "python",
   "display_name": "Python3.10 (cs4248 project)"
  },
  "language_info": {
   "codemirror_mode": {
    "name": "ipython",
    "version": 2
   },
   "file_extension": ".py",
   "mimetype": "text/x-python",
   "name": "python",
   "nbconvert_exporter": "python",
   "pygments_lexer": "ipython2",
   "version": "2.7.6"
  }
 },
 "nbformat": 4,
 "nbformat_minor": 5
}
