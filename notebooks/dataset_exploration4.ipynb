{
 "cells": [
  {
   "cell_type": "code",
   "source": [
    "import numpy as np\n",
    "import pandas as pd\n",
    "import plotly.express as px\n",
    "from numpy.random import RandomState\n",
    "\n",
    "from src.extraction.jsonl_data_reader import JsonlDataReader"
   ],
   "metadata": {
    "collapsed": false,
    "ExecuteTime": {
     "end_time": "2024-04-09T11:35:45.953817Z",
     "start_time": "2024-04-09T11:35:44.728817Z"
    }
   },
   "id": "241064ad2dc2c113",
   "outputs": [],
   "execution_count": 1
  },
  {
   "cell_type": "code",
   "source": [
    "seed = 7\n",
    "random_state = RandomState(seed=seed)\n",
    "np.random.seed(seed)"
   ],
   "metadata": {
    "collapsed": false,
    "ExecuteTime": {
     "end_time": "2024-04-09T11:35:45.968818Z",
     "start_time": "2024-04-09T11:35:45.954819Z"
    }
   },
   "id": "ebeafe2eaa284a61",
   "outputs": [],
   "execution_count": 2
  },
  {
   "cell_type": "code",
   "source": [
    "train_data = JsonlDataReader(file_name='train.jsonl').read()\n",
    "test_data = JsonlDataReader(file_name='test.jsonl').read()"
   ],
   "metadata": {
    "collapsed": false,
    "ExecuteTime": {
     "end_time": "2024-04-09T11:35:46.968818Z",
     "start_time": "2024-04-09T11:35:45.970818Z"
    }
   },
   "id": "7101d588a95c4943",
   "outputs": [],
   "execution_count": 3
  },
  {
   "cell_type": "code",
   "source": [
    "from src.preprocessing.simple_preprocessor import SimplePreprocessor\n",
    "\n",
    "preprocessor = SimplePreprocessor(remove_citations=True, remove_duplicates=True)\n",
    "preprocessed_train = preprocessor.preprocess(train_data)\n",
    "preprocessed_test = preprocessor.preprocess(test_data)"
   ],
   "metadata": {
    "collapsed": false,
    "ExecuteTime": {
     "end_time": "2024-04-09T11:35:47.078816Z",
     "start_time": "2024-04-09T11:35:46.969818Z"
    }
   },
   "id": "f2a9766fad954c0b",
   "outputs": [],
   "execution_count": 4
  },
  {
   "cell_type": "code",
   "source": [
    "from src.tokenize.spacy_tokenizer import SpacyTokenizer\n",
    "\n",
    "tokenizer = SpacyTokenizer(replace_numbers=True)\n",
    "tokenized_train = tokenizer.tokenize(train_data)\n",
    "tokenized_test = tokenizer.tokenize(test_data)"
   ],
   "metadata": {
    "collapsed": false,
    "ExecuteTime": {
     "end_time": "2024-04-08T03:11:30.130132Z",
     "start_time": "2024-04-08T03:10:56.139104Z"
    }
   },
   "id": "2d669b52aab2079b",
   "outputs": [],
   "execution_count": 5
  },
  {
   "metadata": {
    "ExecuteTime": {
     "end_time": "2024-04-07T16:21:58.210378Z",
     "start_time": "2024-04-07T16:21:56.479380Z"
    }
   },
   "cell_type": "code",
   "source": [
    "from src.tokenize.sentence_piece_tokenizer import SentencePieceTokenizer\n",
    "tokenizer = SentencePieceTokenizer(vocab_size=3000)\n",
    "tokenizer.fit(preprocessed_train)\n",
    "tokenized_train = tokenizer.tokenize(preprocessed_train)\n",
    "tokenized_test = tokenizer.tokenize(preprocessed_test)"
   ],
   "id": "7aec22a54f267fdb",
   "outputs": [],
   "execution_count": 28
  },
  {
   "cell_type": "code",
   "source": [
    "from src.tokenize.null_tokenizer import NullTokenizer\n",
    "\n",
    "tokenizer = NullTokenizer()\n",
    "tokenized_train = tokenizer.tokenize(preprocessed_train)\n",
    "tokenized_test = tokenizer.tokenize(preprocessed_test)"
   ],
   "metadata": {
    "collapsed": false,
    "ExecuteTime": {
     "end_time": "2024-04-09T11:35:50.504278Z",
     "start_time": "2024-04-09T11:35:50.458760Z"
    }
   },
   "id": "d3d6634e183891a4",
   "outputs": [],
   "execution_count": 5
  },
  {
   "metadata": {
    "ExecuteTime": {
     "end_time": "2024-04-07T14:37:17.236356Z",
     "start_time": "2024-04-07T14:37:15.523358Z"
    }
   },
   "cell_type": "code",
   "source": [
    "from src.post_tokenizer.phraser_merger import PhraserMerger\n",
    "\n",
    "post_tokenizer = PhraserMerger(num_gram=2)\n",
    "tokenized_train = post_tokenizer.fit_transform(tokenized_train)\n",
    "tokenized_test = post_tokenizer.transform(tokenized_test)"
   ],
   "id": "fc1ca9cb563fd962",
   "outputs": [],
   "execution_count": 13
  },
  {
   "cell_type": "code",
   "outputs": [],
   "source": [
    "from src.vectorizer.fasttext_w2v_vectorizer import FastTextW2vVectorizer\n",
    "\n",
    "vectorizer = FastTextW2vVectorizer()\n",
    "vectorizer.fit(tokenized_train)\n",
    "vectorized_train = vectorizer.transform(tokenized_train)\n",
    "vectorized_test = vectorizer.transform(tokenized_test)"
   ],
   "metadata": {
    "collapsed": false
   },
   "id": "e0fe1251b40008aa",
   "execution_count": null
  },
  {
   "metadata": {
    "ExecuteTime": {
     "end_time": "2024-04-07T17:10:52.319215Z",
     "start_time": "2024-04-07T17:10:25.712202Z"
    }
   },
   "cell_type": "code",
   "source": [
    "from src.vectorizer.w2v_vectorizer import W2vVectorizer\n",
    "\n",
    "vectorizer = W2vVectorizer(vector_size=300)\n",
    "vectorizer.fit(tokenized_train)\n",
    "vectorized_train = vectorizer.transform(tokenized_train)\n",
    "vectorized_test = vectorizer.transform(tokenized_test)"
   ],
   "id": "9ae2186261e2ff25",
   "outputs": [],
   "execution_count": 7
  },
  {
   "cell_type": "code",
   "source": [
    "from src.vectorizer.sk_count_vectorizer import SkCountVectorizer\n",
    "\n",
    "vectorizer = SkCountVectorizer(ngram_range=(1, 2), ignore_preprocessing=False)\n",
    "vectorizer.fit(tokenized_train)\n",
    "vectorized_train = vectorizer.transform(tokenized_train)\n",
    "vectorized_test = vectorizer.transform(tokenized_test)"
   ],
   "metadata": {
    "collapsed": false,
    "ExecuteTime": {
     "end_time": "2024-04-09T11:35:57.144260Z",
     "start_time": "2024-04-09T11:35:56.309042Z"
    }
   },
   "id": "76560d46dc6c259c",
   "outputs": [],
   "execution_count": 6
  },
  {
   "cell_type": "code",
   "source": [
    "from src.vectorizer.tfidf_vectorizer import TfidfVectorizer\n",
    "\n",
    "vectorizer = TfidfVectorizer()\n",
    "vectorizer.fit(tokenized_train)\n",
    "vectorized_train = vectorizer.transform(tokenized_train)\n",
    "vectorized_test = vectorizer.transform(tokenized_test)"
   ],
   "metadata": {
    "collapsed": false,
    "ExecuteTime": {
     "end_time": "2024-04-08T03:11:32.149133Z",
     "start_time": "2024-04-08T03:11:30.131135Z"
    }
   },
   "id": "9ecd159560e2fa61",
   "outputs": [],
   "execution_count": 6
  },
  {
   "cell_type": "code",
   "outputs": [],
   "source": [
    "from src.vectorizer.lsi_vectorizer import LsiVectorizer\n",
    "\n",
    "vectorizer = LsiVectorizer(num_topics=100)\n",
    "vectorizer.fit(tokenized_train)\n",
    "vectorized_train = vectorizer.transform(tokenized_train)\n",
    "vectorized_test = vectorizer.transform(tokenized_test)"
   ],
   "metadata": {
    "collapsed": false,
    "ExecuteTime": {
     "end_time": "2024-03-24T17:51:02.031844Z",
     "start_time": "2024-03-24T17:50:59.035845Z"
    }
   },
   "id": "6552a8bce3c26986",
   "execution_count": 7
  },
  {
   "cell_type": "code",
   "source": [
    "from sklearn.metrics import f1_score\n",
    "from sklearn.svm import SVC\n",
    "\n",
    "\n",
    "model = SVC(C=10.0, kernel='rbf')\n",
    "model.fit(vectorized_train.vectors, vectorized_train.label_indices)\n",
    "y_pred_train = model.predict(vectorized_train.vectors)\n",
    "training_score = f1_score(vectorized_train.label_indices, y_pred_train, average='macro')\n",
    "print(f'{training_score=}')\n",
    "\n",
    "y_pred_test = model.predict(vectorized_test.vectors)\n",
    "testing_score = f1_score(vectorized_test.label_indices, y_pred_test, average='macro')\n",
    "print(f'{testing_score=}')"
   ],
   "metadata": {
    "collapsed": false,
    "ExecuteTime": {
     "start_time": "2024-04-08T03:12:02.640728Z"
    }
   },
   "id": "8455572c8f4e4498",
   "outputs": [],
   "execution_count": null
  },
  {
   "cell_type": "code",
   "source": [
    "from sklearn.linear_model import LogisticRegression\n",
    "from sklearn.metrics import f1_score, confusion_matrix\n",
    "\n",
    "model = LogisticRegression()\n",
    "model.fit(vectorized_train.vectors, vectorized_train.label_indices)\n",
    "y_pred_train = model.predict(vectorized_train.vectors)\n",
    "training_score = f1_score(vectorized_train.label_indices, y_pred_train, average='macro')\n",
    "print(f'{training_score=}')\n",
    "display(confusion_matrix(vectorized_train.label_indices, y_pred_train))\n",
    "\n",
    "y_pred_test = model.predict(vectorized_test.vectors)\n",
    "testing_score = f1_score(vectorized_test.label_indices, y_pred_test, average='macro')\n",
    "print(f'{testing_score=}')\n",
    "display(confusion_matrix(vectorized_test.label_indices, y_pred_test))"
   ],
   "metadata": {
    "collapsed": false,
    "ExecuteTime": {
     "end_time": "2024-04-09T11:37:18.890968Z",
     "start_time": "2024-04-09T11:37:16.366120Z"
    }
   },
   "id": "57b289a46ab5e7ce",
   "outputs": [
    {
     "name": "stdout",
     "output_type": "stream",
     "text": [
      "training_score=0.9998007816475948\n"
     ]
    },
    {
     "data": {
      "text/plain": [
       "array([[4320,    0,    0],\n",
       "       [   0, 2191,    0],\n",
       "       [   1,    0, 1037]], dtype=int64)"
      ]
     },
     "metadata": {},
     "output_type": "display_data"
    },
    {
     "name": "stdout",
     "output_type": "stream",
     "text": [
      "testing_score=0.8084549693024973\n"
     ]
    },
    {
     "data": {
      "text/plain": [
       "array([[894,  55,  48],\n",
       "       [132, 455,  18],\n",
       "       [ 52,  10, 197]], dtype=int64)"
      ]
     },
     "metadata": {},
     "output_type": "display_data"
    }
   ],
   "execution_count": 9
  },
  {
   "metadata": {},
   "cell_type": "code",
   "outputs": [],
   "execution_count": null,
   "source": "",
   "id": "6b09db7cf9d73e35"
  },
  {
   "metadata": {},
   "cell_type": "code",
   "outputs": [],
   "execution_count": null,
   "source": "",
   "id": "8afa6f0a3ed3203a"
  },
  {
   "cell_type": "code",
   "outputs": [
    {
     "name": "stdout",
     "output_type": "stream",
     "text": [
      "training_score=0.585507207014784\n",
      "testing_score=0.5525111683691327\n"
     ]
    }
   ],
   "source": [
    "from sklearn.ensemble import RandomForestClassifier\n",
    "from sklearn.metrics import f1_score\n",
    "\n",
    "model = RandomForestClassifier(n_estimators=2000, max_depth=100, min_samples_leaf=5, n_jobs=-1)\n",
    "model.fit(vectorized_train.vectors, vectorized_train.label_indices)\n",
    "y_pred_train = model.predict(vectorized_train.vectors)\n",
    "training_score = f1_score(vectorized_train.label_indices, y_pred_train, average='macro')\n",
    "print(f'{training_score=}')\n",
    "\n",
    "y_pred_test = model.predict(vectorized_test.vectors)\n",
    "testing_score = f1_score(vectorized_test.label_indices, y_pred_test, average='macro')\n",
    "print(f'{testing_score=}')"
   ],
   "metadata": {
    "collapsed": false,
    "ExecuteTime": {
     "end_time": "2024-03-25T04:38:02.390082Z",
     "start_time": "2024-03-25T04:37:55.904082Z"
    }
   },
   "id": "4ee409106d580e2e",
   "execution_count": 26
  }
 ],
 "metadata": {
  "kernelspec": {
   "name": "cs4248_project",
   "language": "python",
   "display_name": "Python3.10 (cs4248 project)"
  },
  "language_info": {
   "codemirror_mode": {
    "name": "ipython",
    "version": 2
   },
   "file_extension": ".py",
   "mimetype": "text/x-python",
   "name": "python",
   "nbconvert_exporter": "python",
   "pygments_lexer": "ipython2",
   "version": "2.7.6"
  }
 },
 "nbformat": 4,
 "nbformat_minor": 5
}
