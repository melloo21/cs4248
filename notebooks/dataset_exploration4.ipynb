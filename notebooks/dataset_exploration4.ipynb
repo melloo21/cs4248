{
 "cells": [
  {
   "cell_type": "code",
   "source": [
    "import numpy as np\n",
    "import pandas as pd\n",
    "import plotly.express as px\n",
    "from numpy.random import RandomState\n",
    "\n",
    "from src.extraction.jsonl_data_reader import JsonlDataReader"
   ],
   "metadata": {
    "collapsed": false,
    "ExecuteTime": {
     "end_time": "2024-04-07T17:09:28.070354Z",
     "start_time": "2024-04-07T17:09:26.898355Z"
    }
   },
   "id": "241064ad2dc2c113",
   "outputs": [],
   "execution_count": 1
  },
  {
   "cell_type": "code",
   "source": [
    "seed = 7\n",
    "random_state = RandomState(seed=seed)\n",
    "np.random.seed(seed)"
   ],
   "metadata": {
    "collapsed": false,
    "ExecuteTime": {
     "end_time": "2024-04-07T17:09:28.086354Z",
     "start_time": "2024-04-07T17:09:28.071356Z"
    }
   },
   "id": "ebeafe2eaa284a61",
   "outputs": [],
   "execution_count": 2
  },
  {
   "cell_type": "code",
   "source": [
    "train_data = JsonlDataReader(file_name='train.jsonl').read()\n",
    "test_data = JsonlDataReader(file_name='test.jsonl').read()"
   ],
   "metadata": {
    "collapsed": false,
    "ExecuteTime": {
     "end_time": "2024-04-07T17:09:29.024354Z",
     "start_time": "2024-04-07T17:09:28.087356Z"
    }
   },
   "id": "7101d588a95c4943",
   "outputs": [],
   "execution_count": 3
  },
  {
   "cell_type": "code",
   "source": [
    "from src.preprocessing.simple_preprocessor import SimplePreprocessor\n",
    "\n",
    "preprocessor = SimplePreprocessor(remove_citations=True, remove_duplicates=True)\n",
    "preprocessed_train = preprocessor.preprocess(train_data)\n",
    "preprocessed_test = preprocessor.preprocess(test_data)"
   ],
   "metadata": {
    "collapsed": false,
    "ExecuteTime": {
     "end_time": "2024-04-07T17:09:53.535353Z",
     "start_time": "2024-04-07T17:09:53.458353Z"
    }
   },
   "id": "f2a9766fad954c0b",
   "outputs": [],
   "execution_count": 5
  },
  {
   "cell_type": "code",
   "source": [
    "from src.tokenize.spacy_tokenizer import SpacyTokenizer\n",
    "\n",
    "tokenizer = SpacyTokenizer(replace_numbers=False)\n",
    "tokenized_train = tokenizer.tokenize(train_data)\n",
    "tokenized_test = tokenizer.tokenize(test_data)"
   ],
   "metadata": {
    "collapsed": false,
    "ExecuteTime": {
     "end_time": "2024-04-07T14:26:23.451602Z",
     "start_time": "2024-04-07T14:25:48.412600Z"
    }
   },
   "id": "2d669b52aab2079b",
   "outputs": [],
   "execution_count": 5
  },
  {
   "metadata": {
    "ExecuteTime": {
     "end_time": "2024-04-07T16:21:58.210378Z",
     "start_time": "2024-04-07T16:21:56.479380Z"
    }
   },
   "cell_type": "code",
   "source": [
    "from src.tokenize.sentence_piece_tokenizer import SentencePieceTokenizer\n",
    "tokenizer = SentencePieceTokenizer(vocab_size=3000)\n",
    "tokenizer.fit(preprocessed_train)\n",
    "tokenized_train = tokenizer.tokenize(preprocessed_train)\n",
    "tokenized_test = tokenizer.tokenize(preprocessed_test)"
   ],
   "id": "7aec22a54f267fdb",
   "outputs": [],
   "execution_count": 28
  },
  {
   "cell_type": "code",
   "source": [
    "from src.tokenize.null_tokenizer import NullTokenizer\n",
    "\n",
    "tokenizer = NullTokenizer()\n",
    "tokenized_train = tokenizer.tokenize(preprocessed_train)\n",
    "tokenized_test = tokenizer.tokenize(preprocessed_test)"
   ],
   "metadata": {
    "collapsed": false,
    "ExecuteTime": {
     "end_time": "2024-04-07T17:09:57.249335Z",
     "start_time": "2024-04-07T17:09:57.210338Z"
    }
   },
   "id": "d3d6634e183891a4",
   "outputs": [],
   "execution_count": 6
  },
  {
   "metadata": {
    "ExecuteTime": {
     "end_time": "2024-04-07T14:37:17.236356Z",
     "start_time": "2024-04-07T14:37:15.523358Z"
    }
   },
   "cell_type": "code",
   "source": [
    "from src.post_tokenizer.phraser_merger import PhraserMerger\n",
    "\n",
    "post_tokenizer = PhraserMerger(num_gram=2)\n",
    "tokenized_train = post_tokenizer.fit_transform(tokenized_train)\n",
    "tokenized_test = post_tokenizer.transform(tokenized_test)"
   ],
   "id": "fc1ca9cb563fd962",
   "outputs": [],
   "execution_count": 13
  },
  {
   "cell_type": "code",
   "outputs": [],
   "source": [
    "from src.vectorizer.fasttext_w2v_vectorizer import FastTextW2vVectorizer\n",
    "\n",
    "vectorizer = FastTextW2vVectorizer()\n",
    "vectorizer.fit(tokenized_train)\n",
    "vectorized_train = vectorizer.transform(tokenized_train)\n",
    "vectorized_test = vectorizer.transform(tokenized_test)"
   ],
   "metadata": {
    "collapsed": false
   },
   "id": "e0fe1251b40008aa",
   "execution_count": null
  },
  {
   "metadata": {
    "ExecuteTime": {
     "end_time": "2024-04-07T17:10:52.319215Z",
     "start_time": "2024-04-07T17:10:25.712202Z"
    }
   },
   "cell_type": "code",
   "source": [
    "from src.vectorizer.w2v_vectorizer import W2vVectorizer\n",
    "\n",
    "vectorizer = W2vVectorizer(vector_size=300)\n",
    "vectorizer.fit(tokenized_train)\n",
    "vectorized_train = vectorizer.transform(tokenized_train)\n",
    "vectorized_test = vectorizer.transform(tokenized_test)"
   ],
   "id": "9ae2186261e2ff25",
   "outputs": [],
   "execution_count": 7
  },
  {
   "cell_type": "code",
   "source": [
    "from src.vectorizer.sk_count_vectorizer import SkCountVectorizer\n",
    "\n",
    "vectorizer = SkCountVectorizer(ngram_range=(1, 2), ignore_preprocessing=False)\n",
    "vectorizer.fit(tokenized_train)\n",
    "vectorized_train = vectorizer.transform(tokenized_train)\n",
    "vectorized_test = vectorizer.transform(tokenized_test)"
   ],
   "metadata": {
    "collapsed": false,
    "ExecuteTime": {
     "end_time": "2024-04-07T16:22:00.965400Z",
     "start_time": "2024-04-07T16:21:59.861393Z"
    }
   },
   "id": "76560d46dc6c259c",
   "outputs": [],
   "execution_count": 29
  },
  {
   "cell_type": "code",
   "outputs": [],
   "source": [
    "from src.vectorizer.tfidf_vectorizer import TfidfVectorizer\n",
    "\n",
    "vectorizer = TfidfVectorizer()\n",
    "vectorizer.fit(tokenized_train)\n",
    "vectorized_train = vectorizer.transform(tokenized_train)\n",
    "vectorized_test = vectorizer.transform(tokenized_test)"
   ],
   "metadata": {
    "collapsed": false,
    "ExecuteTime": {
     "end_time": "2024-03-24T17:46:45.678636Z",
     "start_time": "2024-03-24T17:46:43.523638Z"
    }
   },
   "id": "9ecd159560e2fa61",
   "execution_count": 9
  },
  {
   "cell_type": "code",
   "outputs": [],
   "source": [
    "from src.vectorizer.lsi_vectorizer import LsiVectorizer\n",
    "\n",
    "vectorizer = LsiVectorizer(num_topics=100)\n",
    "vectorizer.fit(tokenized_train)\n",
    "vectorized_train = vectorizer.transform(tokenized_train)\n",
    "vectorized_test = vectorizer.transform(tokenized_test)"
   ],
   "metadata": {
    "collapsed": false,
    "ExecuteTime": {
     "end_time": "2024-03-24T17:51:02.031844Z",
     "start_time": "2024-03-24T17:50:59.035845Z"
    }
   },
   "id": "6552a8bce3c26986",
   "execution_count": 7
  },
  {
   "cell_type": "code",
   "outputs": [
    {
     "ename": "TypeError",
     "evalue": "PCA initialization is currently not supported with the sparse input matrix. Use init=\"random\" instead.",
     "output_type": "error",
     "traceback": [
      "\u001B[1;31m---------------------------------------------------------------------------\u001B[0m",
      "\u001B[1;31mTypeError\u001B[0m                                 Traceback (most recent call last)",
      "Cell \u001B[1;32mIn[7], line 4\u001B[0m\n\u001B[0;32m      1\u001B[0m \u001B[38;5;28;01mfrom\u001B[39;00m \u001B[38;5;21;01msklearn\u001B[39;00m\u001B[38;5;21;01m.\u001B[39;00m\u001B[38;5;21;01mmanifold\u001B[39;00m \u001B[38;5;28;01mimport\u001B[39;00m TSNE\n\u001B[0;32m      3\u001B[0m tsne_model \u001B[38;5;241m=\u001B[39m TSNE(n_components\u001B[38;5;241m=\u001B[39m\u001B[38;5;241m2\u001B[39m, perplexity\u001B[38;5;241m=\u001B[39m\u001B[38;5;241m80\u001B[39m, n_iter\u001B[38;5;241m=\u001B[39m\u001B[38;5;241m1000\u001B[39m)\n\u001B[1;32m----> 4\u001B[0m tsne_embedding \u001B[38;5;241m=\u001B[39m \u001B[43mtsne_model\u001B[49m\u001B[38;5;241;43m.\u001B[39;49m\u001B[43mfit_transform\u001B[49m\u001B[43m(\u001B[49m\u001B[43mvectorized_train\u001B[49m\u001B[38;5;241;43m.\u001B[39;49m\u001B[43mvectors\u001B[49m\u001B[43m)\u001B[49m\n\u001B[0;32m      5\u001B[0m tsne_embedding\u001B[38;5;241m.\u001B[39mshape\n",
      "File \u001B[1;32m~\\.conda\\envs\\cs4248_project\\lib\\site-packages\\sklearn\\utils\\_set_output.py:295\u001B[0m, in \u001B[0;36m_wrap_method_output.<locals>.wrapped\u001B[1;34m(self, X, *args, **kwargs)\u001B[0m\n\u001B[0;32m    293\u001B[0m \u001B[38;5;129m@wraps\u001B[39m(f)\n\u001B[0;32m    294\u001B[0m \u001B[38;5;28;01mdef\u001B[39;00m \u001B[38;5;21mwrapped\u001B[39m(\u001B[38;5;28mself\u001B[39m, X, \u001B[38;5;241m*\u001B[39margs, \u001B[38;5;241m*\u001B[39m\u001B[38;5;241m*\u001B[39mkwargs):\n\u001B[1;32m--> 295\u001B[0m     data_to_wrap \u001B[38;5;241m=\u001B[39m f(\u001B[38;5;28mself\u001B[39m, X, \u001B[38;5;241m*\u001B[39margs, \u001B[38;5;241m*\u001B[39m\u001B[38;5;241m*\u001B[39mkwargs)\n\u001B[0;32m    296\u001B[0m     \u001B[38;5;28;01mif\u001B[39;00m \u001B[38;5;28misinstance\u001B[39m(data_to_wrap, \u001B[38;5;28mtuple\u001B[39m):\n\u001B[0;32m    297\u001B[0m         \u001B[38;5;66;03m# only wrap the first output for cross decomposition\u001B[39;00m\n\u001B[0;32m    298\u001B[0m         return_tuple \u001B[38;5;241m=\u001B[39m (\n\u001B[0;32m    299\u001B[0m             _wrap_data_with_container(method, data_to_wrap[\u001B[38;5;241m0\u001B[39m], X, \u001B[38;5;28mself\u001B[39m),\n\u001B[0;32m    300\u001B[0m             \u001B[38;5;241m*\u001B[39mdata_to_wrap[\u001B[38;5;241m1\u001B[39m:],\n\u001B[0;32m    301\u001B[0m         )\n",
      "File \u001B[1;32m~\\.conda\\envs\\cs4248_project\\lib\\site-packages\\sklearn\\base.py:1474\u001B[0m, in \u001B[0;36m_fit_context.<locals>.decorator.<locals>.wrapper\u001B[1;34m(estimator, *args, **kwargs)\u001B[0m\n\u001B[0;32m   1467\u001B[0m     estimator\u001B[38;5;241m.\u001B[39m_validate_params()\n\u001B[0;32m   1469\u001B[0m \u001B[38;5;28;01mwith\u001B[39;00m config_context(\n\u001B[0;32m   1470\u001B[0m     skip_parameter_validation\u001B[38;5;241m=\u001B[39m(\n\u001B[0;32m   1471\u001B[0m         prefer_skip_nested_validation \u001B[38;5;129;01mor\u001B[39;00m global_skip_validation\n\u001B[0;32m   1472\u001B[0m     )\n\u001B[0;32m   1473\u001B[0m ):\n\u001B[1;32m-> 1474\u001B[0m     \u001B[38;5;28;01mreturn\u001B[39;00m fit_method(estimator, \u001B[38;5;241m*\u001B[39margs, \u001B[38;5;241m*\u001B[39m\u001B[38;5;241m*\u001B[39mkwargs)\n",
      "File \u001B[1;32m~\\.conda\\envs\\cs4248_project\\lib\\site-packages\\sklearn\\manifold\\_t_sne.py:1136\u001B[0m, in \u001B[0;36mTSNE.fit_transform\u001B[1;34m(self, X, y)\u001B[0m\n\u001B[0;32m   1115\u001B[0m \u001B[38;5;250m\u001B[39m\u001B[38;5;124;03m\"\"\"Fit X into an embedded space and return that transformed output.\u001B[39;00m\n\u001B[0;32m   1116\u001B[0m \n\u001B[0;32m   1117\u001B[0m \u001B[38;5;124;03mParameters\u001B[39;00m\n\u001B[1;32m   (...)\u001B[0m\n\u001B[0;32m   1133\u001B[0m \u001B[38;5;124;03m    Embedding of the training data in low-dimensional space.\u001B[39;00m\n\u001B[0;32m   1134\u001B[0m \u001B[38;5;124;03m\"\"\"\u001B[39;00m\n\u001B[0;32m   1135\u001B[0m \u001B[38;5;28mself\u001B[39m\u001B[38;5;241m.\u001B[39m_check_params_vs_input(X)\n\u001B[1;32m-> 1136\u001B[0m embedding \u001B[38;5;241m=\u001B[39m \u001B[38;5;28;43mself\u001B[39;49m\u001B[38;5;241;43m.\u001B[39;49m\u001B[43m_fit\u001B[49m\u001B[43m(\u001B[49m\u001B[43mX\u001B[49m\u001B[43m)\u001B[49m\n\u001B[0;32m   1137\u001B[0m \u001B[38;5;28mself\u001B[39m\u001B[38;5;241m.\u001B[39membedding_ \u001B[38;5;241m=\u001B[39m embedding\n\u001B[0;32m   1138\u001B[0m \u001B[38;5;28;01mreturn\u001B[39;00m \u001B[38;5;28mself\u001B[39m\u001B[38;5;241m.\u001B[39membedding_\n",
      "File \u001B[1;32m~\\.conda\\envs\\cs4248_project\\lib\\site-packages\\sklearn\\manifold\\_t_sne.py:852\u001B[0m, in \u001B[0;36mTSNE._fit\u001B[1;34m(self, X, skip_num_points)\u001B[0m\n\u001B[0;32m    849\u001B[0m \u001B[38;5;250m\u001B[39m\u001B[38;5;124;03m\"\"\"Private function to fit the model using X as training data.\"\"\"\u001B[39;00m\n\u001B[0;32m    851\u001B[0m \u001B[38;5;28;01mif\u001B[39;00m \u001B[38;5;28misinstance\u001B[39m(\u001B[38;5;28mself\u001B[39m\u001B[38;5;241m.\u001B[39minit, \u001B[38;5;28mstr\u001B[39m) \u001B[38;5;129;01mand\u001B[39;00m \u001B[38;5;28mself\u001B[39m\u001B[38;5;241m.\u001B[39minit \u001B[38;5;241m==\u001B[39m \u001B[38;5;124m\"\u001B[39m\u001B[38;5;124mpca\u001B[39m\u001B[38;5;124m\"\u001B[39m \u001B[38;5;129;01mand\u001B[39;00m issparse(X):\n\u001B[1;32m--> 852\u001B[0m     \u001B[38;5;28;01mraise\u001B[39;00m \u001B[38;5;167;01mTypeError\u001B[39;00m(\n\u001B[0;32m    853\u001B[0m         \u001B[38;5;124m\"\u001B[39m\u001B[38;5;124mPCA initialization is currently not supported \u001B[39m\u001B[38;5;124m\"\u001B[39m\n\u001B[0;32m    854\u001B[0m         \u001B[38;5;124m\"\u001B[39m\u001B[38;5;124mwith the sparse input matrix. Use \u001B[39m\u001B[38;5;124m\"\u001B[39m\n\u001B[0;32m    855\u001B[0m         \u001B[38;5;124m'\u001B[39m\u001B[38;5;124minit=\u001B[39m\u001B[38;5;124m\"\u001B[39m\u001B[38;5;124mrandom\u001B[39m\u001B[38;5;124m\"\u001B[39m\u001B[38;5;124m instead.\u001B[39m\u001B[38;5;124m'\u001B[39m\n\u001B[0;32m    856\u001B[0m     )\n\u001B[0;32m    858\u001B[0m \u001B[38;5;28;01mif\u001B[39;00m \u001B[38;5;28mself\u001B[39m\u001B[38;5;241m.\u001B[39mlearning_rate \u001B[38;5;241m==\u001B[39m \u001B[38;5;124m\"\u001B[39m\u001B[38;5;124mauto\u001B[39m\u001B[38;5;124m\"\u001B[39m:\n\u001B[0;32m    859\u001B[0m     \u001B[38;5;66;03m# See issue #18018\u001B[39;00m\n\u001B[0;32m    860\u001B[0m     \u001B[38;5;28mself\u001B[39m\u001B[38;5;241m.\u001B[39mlearning_rate_ \u001B[38;5;241m=\u001B[39m X\u001B[38;5;241m.\u001B[39mshape[\u001B[38;5;241m0\u001B[39m] \u001B[38;5;241m/\u001B[39m \u001B[38;5;28mself\u001B[39m\u001B[38;5;241m.\u001B[39mearly_exaggeration \u001B[38;5;241m/\u001B[39m \u001B[38;5;241m4\u001B[39m\n",
      "\u001B[1;31mTypeError\u001B[0m: PCA initialization is currently not supported with the sparse input matrix. Use init=\"random\" instead."
     ]
    }
   ],
   "source": [
    "from sklearn.manifold import TSNE\n",
    "\n",
    "tsne_model = TSNE(n_components=2, perplexity=80, n_iter=1000)\n",
    "tsne_embedding = tsne_model.fit_transform(vectorized_train.vectors)\n",
    "tsne_embedding.shape"
   ],
   "metadata": {
    "collapsed": false,
    "ExecuteTime": {
     "end_time": "2024-03-25T03:41:41.708357Z",
     "start_time": "2024-03-25T03:41:40.805356Z"
    }
   },
   "id": "98820d566a277b1",
   "execution_count": 7
  },
  {
   "cell_type": "code",
   "source": [
    "plot_tsne = pd.DataFrame(tsne_embedding, columns=['tsne1', 'tsne2'])\n",
    "plot_tsne.loc[:, 'label'] = vectorized_train.labels\n",
    "fig = px.scatter(plot_tsne, x='tsne1', y='tsne2', color='label')\n",
    "fig.show()"
   ],
   "metadata": {
    "collapsed": false,
    "ExecuteTime": {
     "end_time": "2024-04-07T16:17:12.102435Z",
     "start_time": "2024-04-07T16:17:11.887436Z"
    }
   },
   "id": "59c3612c5d1acc54",
   "outputs": [
    {
     "ename": "NameError",
     "evalue": "name 'tsne_embedding' is not defined",
     "output_type": "error",
     "traceback": [
      "\u001B[1;31m---------------------------------------------------------------------------\u001B[0m",
      "\u001B[1;31mNameError\u001B[0m                                 Traceback (most recent call last)",
      "Cell \u001B[1;32mIn[14], line 1\u001B[0m\n\u001B[1;32m----> 1\u001B[0m plot_tsne \u001B[38;5;241m=\u001B[39m pd\u001B[38;5;241m.\u001B[39mDataFrame(\u001B[43mtsne_embedding\u001B[49m, columns\u001B[38;5;241m=\u001B[39m[\u001B[38;5;124m'\u001B[39m\u001B[38;5;124mtsne1\u001B[39m\u001B[38;5;124m'\u001B[39m, \u001B[38;5;124m'\u001B[39m\u001B[38;5;124mtsne2\u001B[39m\u001B[38;5;124m'\u001B[39m])\n\u001B[0;32m      2\u001B[0m plot_tsne\u001B[38;5;241m.\u001B[39mloc[:, \u001B[38;5;124m'\u001B[39m\u001B[38;5;124mlabel\u001B[39m\u001B[38;5;124m'\u001B[39m] \u001B[38;5;241m=\u001B[39m vectorized_train\u001B[38;5;241m.\u001B[39mlabels\n\u001B[0;32m      3\u001B[0m fig \u001B[38;5;241m=\u001B[39m px\u001B[38;5;241m.\u001B[39mscatter(plot_tsne, x\u001B[38;5;241m=\u001B[39m\u001B[38;5;124m'\u001B[39m\u001B[38;5;124mtsne1\u001B[39m\u001B[38;5;124m'\u001B[39m, y\u001B[38;5;241m=\u001B[39m\u001B[38;5;124m'\u001B[39m\u001B[38;5;124mtsne2\u001B[39m\u001B[38;5;124m'\u001B[39m, color\u001B[38;5;241m=\u001B[39m\u001B[38;5;124m'\u001B[39m\u001B[38;5;124mlabel\u001B[39m\u001B[38;5;124m'\u001B[39m)\n",
      "\u001B[1;31mNameError\u001B[0m: name 'tsne_embedding' is not defined"
     ]
    }
   ],
   "execution_count": 14
  },
  {
   "cell_type": "code",
   "source": [
    "from sklearn.metrics import f1_score\n",
    "from sklearn.svm import SVC\n",
    "\n",
    "\n",
    "model = SVC(C=10.0, kernel='rbf')\n",
    "model.fit(vectorized_train.vectors, vectorized_train.label_indices)\n",
    "y_pred_train = model.predict(vectorized_train.vectors)\n",
    "training_score = f1_score(vectorized_train.label_indices, y_pred_train, average='macro')\n",
    "print(f'{training_score=}')\n",
    "\n",
    "y_pred_test = model.predict(vectorized_test.vectors)\n",
    "testing_score = f1_score(vectorized_test.label_indices, y_pred_test, average='macro')\n",
    "print(f'{testing_score=}')"
   ],
   "metadata": {
    "collapsed": false,
    "ExecuteTime": {
     "end_time": "2024-04-07T17:11:02.301218Z",
     "start_time": "2024-04-07T17:10:52.320217Z"
    }
   },
   "id": "8455572c8f4e4498",
   "outputs": [
    {
     "name": "stdout",
     "output_type": "stream",
     "text": [
      "training_score=0.996774995712017\n",
      "testing_score=0.7653882933357551\n"
     ]
    }
   ],
   "execution_count": 8
  },
  {
   "cell_type": "code",
   "source": [
    "from sklearn.linear_model import LogisticRegression\n",
    "from sklearn.metrics import f1_score\n",
    "\n",
    "model = LogisticRegression()\n",
    "model.fit(vectorized_train.vectors, vectorized_train.label_indices)\n",
    "y_pred_train = model.predict(vectorized_train.vectors)\n",
    "training_score = f1_score(vectorized_train.label_indices, y_pred_train, average='macro')\n",
    "print(f'{training_score=}')\n",
    "\n",
    "y_pred_test = model.predict(vectorized_test.vectors)\n",
    "testing_score = f1_score(vectorized_test.label_indices, y_pred_test, average='macro')\n",
    "print(f'{testing_score=}')"
   ],
   "metadata": {
    "collapsed": false,
    "ExecuteTime": {
     "end_time": "2024-04-07T17:11:02.459216Z",
     "start_time": "2024-04-07T17:11:02.302216Z"
    }
   },
   "id": "57b289a46ab5e7ce",
   "outputs": [
    {
     "name": "stdout",
     "output_type": "stream",
     "text": [
      "training_score=0.6840409163361508\n",
      "testing_score=0.7127112843647327\n"
     ]
    }
   ],
   "execution_count": 9
  },
  {
   "cell_type": "code",
   "outputs": [
    {
     "name": "stdout",
     "output_type": "stream",
     "text": [
      "training_score=0.585507207014784\n",
      "testing_score=0.5525111683691327\n"
     ]
    }
   ],
   "source": [
    "from sklearn.ensemble import RandomForestClassifier\n",
    "from sklearn.metrics import f1_score\n",
    "\n",
    "model = RandomForestClassifier(n_estimators=2000, max_depth=100, min_samples_leaf=5, n_jobs=-1)\n",
    "model.fit(vectorized_train.vectors, vectorized_train.label_indices)\n",
    "y_pred_train = model.predict(vectorized_train.vectors)\n",
    "training_score = f1_score(vectorized_train.label_indices, y_pred_train, average='macro')\n",
    "print(f'{training_score=}')\n",
    "\n",
    "y_pred_test = model.predict(vectorized_test.vectors)\n",
    "testing_score = f1_score(vectorized_test.label_indices, y_pred_test, average='macro')\n",
    "print(f'{testing_score=}')"
   ],
   "metadata": {
    "collapsed": false,
    "ExecuteTime": {
     "end_time": "2024-03-25T04:38:02.390082Z",
     "start_time": "2024-03-25T04:37:55.904082Z"
    }
   },
   "id": "4ee409106d580e2e",
   "execution_count": 26
  }
 ],
 "metadata": {
  "kernelspec": {
   "name": "cs4248_project",
   "language": "python",
   "display_name": "Python3.10 (cs4248 project)"
  },
  "language_info": {
   "codemirror_mode": {
    "name": "ipython",
    "version": 2
   },
   "file_extension": ".py",
   "mimetype": "text/x-python",
   "name": "python",
   "nbconvert_exporter": "python",
   "pygments_lexer": "ipython2",
   "version": "2.7.6"
  }
 },
 "nbformat": 4,
 "nbformat_minor": 5
}
