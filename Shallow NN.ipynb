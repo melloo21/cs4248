{
 "cells": [
  {
   "cell_type": "code",
   "execution_count": 9,
   "metadata": {},
   "outputs": [
    {
     "name": "stderr",
     "output_type": "stream",
     "text": [
      "/Users/hsy/anaconda3/lib/python3.10/site-packages/tqdm/auto.py:22: TqdmWarning: IProgress not found. Please update jupyter and ipywidgets. See https://ipywidgets.readthedocs.io/en/stable/user_install.html\n",
      "  from .autonotebook import tqdm as notebook_tqdm\n"
     ]
    }
   ],
   "source": [
    "import pandas as pd\n",
    "from tqdm import tqdm\n",
    "import json\n",
    "import numpy as np\n",
    "from sklearn.feature_extraction.text import CountVectorizer,TfidfVectorizer\n",
    "from sklearn.decomposition import LatentDirichletAllocation\n",
    "from sklearn.neural_network import MLPClassifier\n",
    "from sklearn.metrics import classification_report\n",
    "import spacy\n",
    "from scipy.sparse import hstack\n",
    "import numpy as np\n",
    "from sklearn.feature_extraction.text import TfidfVectorizer\n",
    "from sklearn.preprocessing import MinMaxScaler\n",
    "sc = MinMaxScaler() \n",
    "from sklearn.preprocessing import LabelEncoder\n",
    "import gensim.downloader as api\n",
    "word_vectors = api.load(\"word2vec-google-news-300\")"
   ]
  },
  {
   "cell_type": "code",
   "execution_count": 10,
   "metadata": {},
   "outputs": [],
   "source": [
    "def js_to_df(file_path):\n",
    "    data = []\n",
    "    with open(file_path, 'r', encoding='utf-8') as f:\n",
    "        for line in f:\n",
    "            obj = json.loads(line.strip())\n",
    "            data.append({'string': obj['string'], 'label': obj['label']})\n",
    "    return pd.DataFrame(data)\n",
    "\n",
    "train_df = js_to_df('scicite/train.jsonl')\n",
    "test_df = js_to_df('scicite/test.jsonl')"
   ]
  },
  {
   "cell_type": "code",
   "execution_count": 11,
   "metadata": {},
   "outputs": [],
   "source": [
    "X_train, y_train = train_df['string'], train_df['label']\n",
    "X_test, y_test = test_df['string'], test_df['label']"
   ]
  },
  {
   "cell_type": "markdown",
   "metadata": {},
   "source": [
    "# NN"
   ]
  },
  {
   "cell_type": "code",
   "execution_count": 12,
   "metadata": {},
   "outputs": [],
   "source": [
    "classifier = MLPClassifier(alpha=0.1)"
   ]
  },
  {
   "cell_type": "code",
   "execution_count": 13,
   "metadata": {},
   "outputs": [],
   "source": [
    "vectorizer = CountVectorizer()"
   ]
  },
  {
   "cell_type": "code",
   "execution_count": 15,
   "metadata": {},
   "outputs": [],
   "source": [
    "label_encoder = LabelEncoder()\n",
    "y_train_encoded = label_encoder.fit_transform(y_train)\n",
    "y_test_encoded = label_encoder.transform(y_test)"
   ]
  },
  {
   "cell_type": "code",
   "execution_count": 17,
   "metadata": {},
   "outputs": [
    {
     "name": "stdout",
     "output_type": "stream",
     "text": [
      "Test Performence:\n",
      "               precision    recall  f1-score   support\n",
      "\n",
      "           0       0.82      0.85      0.83       997\n",
      "           1       0.81      0.75      0.78       605\n",
      "           2       0.69      0.71      0.70       259\n",
      "\n",
      "    accuracy                           0.80      1861\n",
      "   macro avg       0.77      0.77      0.77      1861\n",
      "weighted avg       0.80      0.80      0.80      1861\n",
      "\n"
     ]
    }
   ],
   "source": [
    "X_train_vec = vectorizer.fit_transform(X_train)\n",
    "X_test_vec = vectorizer.transform(X_test)\n",
    "\n",
    "classifier.fit(X_train_vec, y_train_encoded)\n",
    "\n",
    "y_test_pred = classifier.predict(X_test_vec)\n",
    "test_report = classification_report(y_test_encoded, y_test_pred)\n",
    "print(\"Test Performence:\\n\", test_report)"
   ]
  },
  {
   "cell_type": "markdown",
   "metadata": {},
   "source": [
    "## POS+DEP"
   ]
  },
  {
   "cell_type": "code",
   "execution_count": 19,
   "metadata": {},
   "outputs": [],
   "source": [
    "nlp = spacy.load(\"en_core_web_sm\")\n",
    "\n",
    "def extract_pos_dep_features(corpus):\n",
    "    pos_features = []\n",
    "    dep_features = []\n",
    "    for sentence in tqdm(corpus):\n",
    "        doc = nlp(sentence)\n",
    "        pos_tags = [token.pos_ for token in doc]\n",
    "        dep_rels = [token.dep_ for token in doc]\n",
    "        pos_features.append(\" \".join(pos_tags))\n",
    "        dep_features.append(\" \".join(dep_rels))\n",
    "    return pos_features, dep_features\n",
    "\n",
    "\n",
    "def feature_engineering(corpus, fit_vectorizers=False):\n",
    "    pos_features, dep_features = extract_pos_dep_features(corpus)\n",
    "    \n",
    "    global pos_vectorizer, dep_vectorizer, vectorizer\n",
    "    if fit_vectorizers:\n",
    "        pos_vectorizer = TfidfVectorizer()\n",
    "        dep_vectorizer = TfidfVectorizer()\n",
    "        vectorizer = CountVectorizer()\n",
    "        pos_tfidf = pos_vectorizer.fit_transform(pos_features)\n",
    "        dep_tfidf = dep_vectorizer.fit_transform(dep_features)\n",
    "        tfidf_features = vectorizer.fit_transform(corpus)\n",
    "    else:\n",
    "        pos_tfidf = pos_vectorizer.transform(pos_features)\n",
    "        dep_tfidf = dep_vectorizer.transform(dep_features)\n",
    "        tfidf_features = vectorizer.transform(corpus)\n",
    "\n",
    "    combined_features = hstack([pos_tfidf, dep_tfidf, tfidf_features])\n",
    "    combined_features = combined_features.tocsr()\n",
    "    return combined_features"
   ]
  },
  {
   "cell_type": "code",
   "execution_count": 20,
   "metadata": {
    "scrolled": false
   },
   "outputs": [
    {
     "name": "stderr",
     "output_type": "stream",
     "text": [
      "100%|██████████████████████████████████████| 8243/8243 [01:03<00:00, 128.90it/s]\n",
      "100%|██████████████████████████████████████| 1861/1861 [00:14<00:00, 131.66it/s]\n"
     ]
    }
   ],
   "source": [
    "train_features =  feature_engineering(X_train, fit_vectorizers=True)\n",
    "test_features = feature_engineering(X_test, fit_vectorizers=False)"
   ]
  },
  {
   "cell_type": "code",
   "execution_count": 22,
   "metadata": {
    "scrolled": false
   },
   "outputs": [
    {
     "name": "stdout",
     "output_type": "stream",
     "text": [
      "Test Performence:\n",
      "               precision    recall  f1-score   support\n",
      "\n",
      "           0       0.83      0.81      0.82       997\n",
      "           1       0.80      0.77      0.78       605\n",
      "           2       0.66      0.76      0.71       259\n",
      "\n",
      "    accuracy                           0.79      1861\n",
      "   macro avg       0.76      0.78      0.77      1861\n",
      "weighted avg       0.79      0.79      0.79      1861\n",
      "\n"
     ]
    }
   ],
   "source": [
    "classifier.fit(train_features, y_train_encoded)\n",
    "\n",
    "y_test_pred = classifier.predict(test_features)\n",
    "test_report = classification_report(y_test_encoded, y_test_pred)\n",
    "print(\"Test Performence:\\n\", test_report)"
   ]
  },
  {
   "cell_type": "markdown",
   "metadata": {},
   "source": [
    "## number -> < NUM >"
   ]
  },
  {
   "cell_type": "code",
   "execution_count": 24,
   "metadata": {},
   "outputs": [],
   "source": [
    "nlp = spacy.load('en_core_web_sm')\n",
    "\n",
    "def number_tokenize(text, token_replacement='<NUM>'):\n",
    "    doc = nlp(text)\n",
    "    return \" \".join([token_replacement if token.like_num else token.text for token in doc])\n",
    "\n",
    "X_train_tokenized = X_train.apply(lambda x: number_tokenize(x))\n",
    "X_test_tokenized = X_test.apply(lambda x: number_tokenize(x))"
   ]
  },
  {
   "cell_type": "code",
   "execution_count": 45,
   "metadata": {
    "scrolled": true
   },
   "outputs": [
    {
     "name": "stdout",
     "output_type": "stream",
     "text": [
      "Test Performence:\n",
      "               precision    recall  f1-score   support\n",
      "\n",
      "           0       0.83      0.83      0.83       997\n",
      "           1       0.81      0.76      0.79       605\n",
      "           2       0.65      0.74      0.69       259\n",
      "\n",
      "    accuracy                           0.80      1861\n",
      "   macro avg       0.77      0.78      0.77      1861\n",
      "weighted avg       0.80      0.80      0.80      1861\n",
      "\n"
     ]
    }
   ],
   "source": [
    "classifier = MLPClassifier(alpha=0.1)\n",
    "\n",
    "vectorizer = CountVectorizer()\n",
    "X_train_vec = vectorizer.fit_transform(X_train_tokenized)\n",
    "X_test_vec = vectorizer.transform(X_test_tokenized)\n",
    "\n",
    "classifier.fit(X_train_vec, y_train_encoded)\n",
    "\n",
    "y_test_pred = classifier.predict(X_test_vec)\n",
    "test_report = classification_report(y_test_encoded, y_test_pred)\n",
    "print(\"Test Performence:\\n\", test_report)"
   ]
  },
  {
   "cell_type": "markdown",
   "metadata": {},
   "source": [
    "## word embedding"
   ]
  },
  {
   "cell_type": "code",
   "execution_count": 29,
   "metadata": {},
   "outputs": [],
   "source": [
    "def vectorize_text(text_list, model):\n",
    "    vectorized = []\n",
    "    for text in text_list:\n",
    "        words = [word for word in text.lower().split() if word in model.key_to_index]\n",
    "        if words:\n",
    "            vectorized.append(np.mean(model[words], axis=0))\n",
    "        else:\n",
    "            vectorized.append(np.zeros(model.vector_size))\n",
    "    return np.array(vectorized)"
   ]
  },
  {
   "cell_type": "code",
   "execution_count": 41,
   "metadata": {},
   "outputs": [
    {
     "name": "stdout",
     "output_type": "stream",
     "text": [
      "Test Performence:\n",
      "               precision    recall  f1-score   support\n",
      "\n",
      "           0       0.80      0.82      0.81       997\n",
      "           1       0.81      0.75      0.78       605\n",
      "           2       0.60      0.65      0.63       259\n",
      "\n",
      "    accuracy                           0.77      1861\n",
      "   macro avg       0.74      0.74      0.74      1861\n",
      "weighted avg       0.78      0.77      0.77      1861\n",
      "\n"
     ]
    }
   ],
   "source": [
    "classifier = MLPClassifier(alpha=0.1, max_iter=400)\n",
    "\n",
    "X_train_vec = vectorize_text(X_train, word_vectors)\n",
    "X_test_vec = vectorize_text(X_test, word_vectors)\n",
    "\n",
    "classifier.fit(X_train_vec, y_train_encoded)\n",
    "\n",
    "y_test_pred = classifier.predict(X_test_vec)\n",
    "test_report = classification_report(y_test_encoded, y_test_pred)\n",
    "print(\"Test Performence:\\n\", test_report)"
   ]
  },
  {
   "cell_type": "code",
   "execution_count": 43,
   "metadata": {
    "scrolled": true
   },
   "outputs": [
    {
     "name": "stdout",
     "output_type": "stream",
     "text": [
      "Test Performence:\n",
      "               precision    recall  f1-score   support\n",
      "\n",
      "           0       0.81      0.79      0.80       997\n",
      "           1       0.79      0.78      0.78       605\n",
      "           2       0.61      0.71      0.65       259\n",
      "\n",
      "    accuracy                           0.77      1861\n",
      "   macro avg       0.74      0.76      0.75      1861\n",
      "weighted avg       0.78      0.77      0.77      1861\n",
      "\n"
     ]
    }
   ],
   "source": [
    "X_train_vec = vectorize_text(X_train_tokenized, word_vectors)\n",
    "X_test_vec = vectorize_text(X_test_tokenized, word_vectors)\n",
    "\n",
    "classifier.fit(X_train_vec, y_train_encoded)\n",
    "\n",
    "y_test_pred = classifier.predict(X_test_vec)\n",
    "test_report = classification_report(y_test_encoded, y_test_pred)\n",
    "print(\"Test Performence:\\n\", test_report)"
   ]
  },
  {
   "cell_type": "code",
   "execution_count": null,
   "metadata": {},
   "outputs": [],
   "source": []
  }
 ],
 "metadata": {
  "kernelspec": {
   "display_name": "Python 3 (ipykernel)",
   "language": "python",
   "name": "python3"
  },
  "language_info": {
   "codemirror_mode": {
    "name": "ipython",
    "version": 3
   },
   "file_extension": ".py",
   "mimetype": "text/x-python",
   "name": "python",
   "nbconvert_exporter": "python",
   "pygments_lexer": "ipython3",
   "version": "3.10.9"
  }
 },
 "nbformat": 4,
 "nbformat_minor": 4
}
